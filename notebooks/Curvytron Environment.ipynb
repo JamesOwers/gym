{
 "cells": [
  {
   "cell_type": "markdown",
   "metadata": {},
   "source": [
    "Download https://github.com/RyanrDavies/curvytron-client somewhere"
   ]
  },
  {
   "cell_type": "code",
   "execution_count": 1,
   "metadata": {},
   "outputs": [
    {
     "name": "stdout",
     "output_type": "stream",
     "text": [
      "/Users/kungfujam/git/forks/curvytron-client\n"
     ]
    }
   ],
   "source": [
    "%cd ../../curvytron-client"
   ]
  },
  {
   "cell_type": "code",
   "execution_count": 2,
   "metadata": {},
   "outputs": [],
   "source": [
    "import threading\n",
    "import env\n",
    "import matplotlib.pyplot as plt\n",
    "from IPython import display\n",
    "import numpy as np"
   ]
  },
  {
   "cell_type": "markdown",
   "metadata": {},
   "source": [
    "Start a curvytron server and point to its address (can use curvytron.com)"
   ]
  },
  {
   "cell_type": "code",
   "execution_count": 3,
   "metadata": {},
   "outputs": [],
   "source": [
    "serveraddress = \"129.215.91.49:8080\""
   ]
  },
  {
   "cell_type": "markdown",
   "metadata": {},
   "source": [
    "Random policy"
   ]
  },
  {
   "cell_type": "code",
   "execution_count": 4,
   "metadata": {},
   "outputs": [],
   "source": [
    "environment = env.CurvytronEnv(server=serveraddress, room='room2', name='bill')"
   ]
  },
  {
   "cell_type": "code",
   "execution_count": 5,
   "metadata": {},
   "outputs": [
    {
     "data": {
      "image/png": "[encoded data removed]",
      "text/plain": [
       "<Figure size 432x288 with 1 Axes>"
      ]
     },
     "metadata": {},
     "output_type": "display_data"
    },
    {
     "name": "stdout",
     "output_type": "stream",
     "text": [
      "done\n"
     ]
    },
    {
     "name": "stderr",
     "output_type": "stream",
     "text": [
      "Exception in thread bill:\n",
      "Traceback (most recent call last):\n",
      "  File \"/Users/kungfujam/anaconda2/envs/rlhack/lib/python3.6/threading.py\", line 916, in _bootstrap_inner\n",
      "    self.run()\n",
      "  File \"/Users/kungfujam/git/forks/curvytron-client/client.py\", line 84, in run\n",
      "    self._process_recvd(recvd)\n",
      "  File \"/Users/kungfujam/git/forks/curvytron-client/client.py\", line 166, in _process_recvd\n",
      "    messages = json.loads(recvd)\n",
      "  File \"/Users/kungfujam/anaconda2/envs/rlhack/lib/python3.6/json/__init__.py\", line 354, in loads\n",
      "    return _default_decoder.decode(s)\n",
      "  File \"/Users/kungfujam/anaconda2/envs/rlhack/lib/python3.6/json/decoder.py\", line 339, in decode\n",
      "    obj, end = self.raw_decode(s, idx=_w(s, 0).end())\n",
      "  File \"/Users/kungfujam/anaconda2/envs/rlhack/lib/python3.6/json/decoder.py\", line 357, in raw_decode\n",
      "    raise JSONDecodeError(\"Expecting value\", s, err.value) from None\n",
      "json.decoder.JSONDecodeError: Expecting value: line 1 column 1 (char 0)\n",
      "\n"
     ]
    }
   ],
   "source": [
    "environment.reset()\n",
    "episode_over = False\n",
    "while not episode_over:\n",
    "    action = np.random.choice(3)\n",
    "    ob,r,episode_over = environment.step(action)\n",
    "    display.display(plt.imshow(ob))\n",
    "    display.clear_output(wait=True)\n",
    "    plt.pause(0.005)\n",
    "print(\"done\")\n",
    "environment.client.join()  # kills the player"
   ]
  },
  {
   "cell_type": "markdown",
   "metadata": {},
   "source": [
    "kill the player"
   ]
  },
  {
   "cell_type": "code",
   "execution_count": 6,
   "metadata": {},
   "outputs": [],
   "source": [
    "environment.client.join()"
   ]
  },
  {
   "cell_type": "code",
   "execution_count": 7,
   "metadata": {},
   "outputs": [],
   "source": [
    "def random(environment):\n",
    "    environment.reset()\n",
    "    episode_over = False\n",
    "    while not episode_over:\n",
    "        action = np.random.choice(3)\n",
    "        ob, r, episode_over = environment.step(action)\n",
    "        plt.pause(0.005)"
   ]
  },
  {
   "cell_type": "code",
   "execution_count": 8,
   "metadata": {},
   "outputs": [],
   "source": [
    "environments = [env.CurvytronEnv(server=serveraddress, room='multiplayer', name='bob{}'.format(ii)) \n",
    "                for ii in range(5)]"
   ]
  },
  {
   "cell_type": "markdown",
   "metadata": {},
   "source": [
    "Go join the game yourself!"
   ]
  },
  {
   "cell_type": "code",
   "execution_count": 9,
   "metadata": {},
   "outputs": [],
   "source": [
    "threads = []\n",
    "for ee in environments:\n",
    "    t = threading.Thread(target=random, args=(ee,))\n",
    "    threads.append(t)\n",
    "    t.start()"
   ]
  },
  {
   "cell_type": "code",
   "execution_count": 10,
   "metadata": {},
   "outputs": [
    {
     "name": "stderr",
     "output_type": "stream",
     "text": [
      "close status: 23387\n",
      "close status: 23387\n",
      "close status: 23387\n",
      "close status: 23387\n",
      "close status: 23387\n"
     ]
    }
   ],
   "source": [
    "for ee in environments:\n",
    "    ee.client.join()  # kills the player"
   ]
  },
  {
   "cell_type": "code",
   "execution_count": null,
   "metadata": {},
   "outputs": [],
   "source": []
  }
 ],
 "metadata": {
  "kernelspec": {
   "display_name": "Python 3",
   "language": "python",
   "name": "python3"
  },
  "language_info": {
   "codemirror_mode": {
    "name": "ipython",
    "version": 3
   },
   "file_extension": ".py",
   "mimetype": "text/x-python",
   "name": "python",
   "nbconvert_exporter": "python",
   "pygments_lexer": "ipython3",
   "version": "3.6.4"
  }
 },
 "nbformat": 4,
 "nbformat_minor": 2
}
